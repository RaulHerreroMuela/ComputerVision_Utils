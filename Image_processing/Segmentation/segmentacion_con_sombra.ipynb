{
 "cells": [
  {
   "cell_type": "code",
   "execution_count": 1,
   "id": "initial_id",
   "metadata": {
    "collapsed": true,
    "ExecuteTime": {
     "end_time": "2024-10-16T09:28:15.942901Z",
     "start_time": "2024-10-16T09:28:10.621495Z"
    }
   },
   "outputs": [],
   "source": [
    "import numpy as np\n",
    "import os\n",
    "from matplotlib import pyplot as plt\n",
    "from PIL import Image\n",
    "import cv2\n",
    "import pandas as pd\n",
    "import shutil\n",
    "import jupyter_notebooks.utils.aux_functions as aux\n",
    "from scipy.special import expit\n",
    "from tqdm import tqdm\n",
    "\n",
    "from typing import List, Tuple"
   ]
  },
  {
   "cell_type": "code",
   "outputs": [],
   "source": [
    "class LineDrawer:\n",
    "    def __init__(self, img):\n",
    "        self.img = img\n",
    "        self.points = []\n",
    "\n",
    "    def click_event(self, event, x, y, flags, param):\n",
    "        if event == cv2.EVENT_LBUTTONDOWN:\n",
    "            self.points.append((x, y))\n",
    "            if len(self.points) == 2:\n",
    "                cv2.line(self.img, self.points[0], self.points[1], (0, 255, 0), 2)\n",
    "                cv2.moveWindow('Image', 3000, 0)\n",
    "                cv2.imshow('Image', self.img)\n",
    "                cv2.waitKey(0)\n",
    "                cv2.destroyAllWindows()\n",
    "\n",
    "    def run(self):\n",
    "        cv2.imshow('Image', self.img)\n",
    "        cv2.setMouseCallback('Image', self.click_event)\n",
    "        cv2.waitKey(0)\n",
    "        cv2.destroyAllWindows()\n",
    "        #self.m = self.points[0][1]\n",
    "        return self.points"
   ],
   "metadata": {
    "collapsed": false,
    "ExecuteTime": {
     "end_time": "2024-10-16T09:28:15.958428Z",
     "start_time": "2024-10-16T09:28:15.944908Z"
    }
   },
   "id": "de16a22016dd42fc",
   "execution_count": 2
  },
  {
   "cell_type": "code",
   "outputs": [],
   "source": [
    "def sigmoid_correction(image, threshold, factor=10):\n",
    "    normalized_image = image / 255.0\n",
    "\n",
    "    corrected_image = expit(factor * (normalized_image - threshold))\n",
    "    \n",
    "    corrected_image = (corrected_image * 255).astype(np.uint8)\n",
    "    \n",
    "    return corrected_image\n",
    "\n",
    "def multi_sigmoid_correction(image, threshold_luz: float, threshold_sombra: float, factor_luz: int, factor_sombra: int, div: List[Tuple[int, int]]):\n",
    "    normalized_image = image / 255.0\n",
    "    corrected_image = np.zeros_like(normalized_image)\n",
    "    \n",
    "    for fila in range(int(image.shape[0])):\n",
    "        for columna in range(int(image.shape[1])):\n",
    "            \n",
    "            if columna >= div[fila][0]:\n",
    "                corrected_image[fila, columna, :] = expit(factor_luz * (normalized_image[fila, columna, :] - threshold_luz))\n",
    "                \n",
    "            else:\n",
    "                corrected_image[fila, columna, :] = expit(factor_sombra * (normalized_image[fila, columna, :] - threshold_sombra))\n",
    "    \n",
    "    corrected_image = (corrected_image * 255).astype(np.uint8)\n",
    "    \n",
    "    return corrected_image\n",
    "    \n",
    "def get_m_n(points: List[Tuple[int, int]]):\n",
    "    x1, y1, x2, y2 = points[0][0], points[0][1], points[1][0], points[1][1]\n",
    "    \n",
    "    if len(points) != 2:\n",
    "        raise ValueError(\"La lista no contiene 2 puntos\")\n",
    "    \n",
    "    else:\n",
    "        m = (y2 - y1)/(x2 - x1)\n",
    "        n = y1 - m * x1\n",
    "    \n",
    "    return m, n"
   ],
   "metadata": {
    "collapsed": false,
    "ExecuteTime": {
     "end_time": "2024-10-16T09:28:15.974464Z",
     "start_time": "2024-10-16T09:28:15.959426Z"
    }
   },
   "id": "304b0a8f274a01ad",
   "execution_count": 3
  },
  {
   "cell_type": "markdown",
   "source": [
    "# Determinación manual de umbrales corrección Sigmoide"
   ],
   "metadata": {
    "collapsed": false
   },
   "id": "984564f331f4cd75"
  },
  {
   "cell_type": "code",
   "outputs": [],
   "source": [
    "# Transformación sigmoide de intensidad con sombra\n",
    "#path_images = r'C:\\Users\\aquacorp\\Desktop\\Imagenes\\Lescala\\dataSet_segmentacion\\imagenes_post_mov'\n",
    "\n",
    "\n",
    "#transparencia = 0.4\n",
    "#kernel_dil = cv2.getStructuringElement(cv2.MORPH_ELLIPSE, (2, 2))\n",
    "\n",
    "#for pth_img in os.listdir(path_images):\n",
    "#    path_img = os.path.join(path_images, pth_img)\n",
    "#    #print(path_img)\n",
    "#    img = cv2.imread(path_img)\n",
    "#    img = cv2.resize(img, (512, 288))\n",
    "    \n",
    "#    thres_luz = 0.58\n",
    "#    factor_luz = 20\n",
    "#    thres_sombra = 0.12\n",
    "#    factor_sombra = 28\n",
    "    \n",
    "#    drawer = LineDrawer(img)\n",
    "#    points = drawer.run()\n",
    "#    m, n = get_m_n(points)\n",
    "    \n",
    "#    recta_pixel: List[Tuple[int, int]] = []\n",
    "    \n",
    "#    for i in range(288):\n",
    "        \n",
    "#        y = int(i)\n",
    "#        x = round(int((y - n)/m))\n",
    "        \n",
    "#        recta_pixel.append((x, y))  \n",
    "    \n",
    "#    for pix in recta_pixel:\n",
    "#        cv2.circle(img, pix, radius=1, color=(0, 0, 255), thickness=-1)  # Rojo\n",
    "    \n",
    "#    cv2.imshow('Image with Points', img)\n",
    "#    cv2.waitKey(0)\n",
    "#    cv2.destroyAllWindows()\n",
    "    \n",
    "#    img = cv2.imread(path_img)\n",
    "#    img = cv2.resize(img, (512, 288))\n",
    "    \n",
    "#    img[:,:,0] = cv2.equalizeHist((img[:,:,0]))\n",
    "#    img[:,:,1] = cv2.equalizeHist((img[:,:,1]))\n",
    "#    img[:,:,2] = cv2.equalizeHist((img[:,:,2]))\n",
    "    \n",
    "#    res = np.zeros_like(img)\n",
    "    \n",
    "#    key = '  '\n",
    "#    while key != ord('q'):\n",
    "        \n",
    "#        res = multi_sigmoid_correction(img,thres_luz, thres_sombra, factor_luz, factor_sombra, recta_pixel)\n",
    "\n",
    "#        imagenes = cv2.vconcat([res[:,:,0], res[:,:,1], res[:,:,2]])\n",
    "#        cv2.namedWindow(f'Thr_som: {thres_sombra} F_som: {factor_sombra} Thr_luz: {thres_luz} F_luz: {factor_luz}', cv2.WINDOW_NORMAL)\n",
    "#        cv2.moveWindow(f'Thr_som: {thres_sombra} F_som: {factor_sombra} Thr_luz: {thres_luz} F_luz: {factor_luz}', 3000, 0)\n",
    "#        cv2.resizeWindow(f'Thr_som: {thres_sombra} F_som: {factor_sombra} Thr_luz: {thres_luz} F_luz: {factor_luz}', int(img.shape[1]), int((img.shape[0])*3))\n",
    "#        cv2.imshow(f'Thr_som: {thres_sombra} F_som: {factor_sombra} Thr_luz: {thres_luz} F_luz: {factor_luz}', imagenes)\n",
    "        \n",
    "#        key = cv2.waitKey(0)\n",
    "        \n",
    "#        if key == ord('a'): # bajar el umbral de sombra\n",
    "#            thres_sombra -= 0.01\n",
    "#            cv2.destroyAllWindows()\n",
    "        \n",
    "#        if key == ord('s'): # subir el umbral de sombra\n",
    "#            thres_sombra += 0.01\n",
    "#            cv2.destroyAllWindows()\n",
    "        \n",
    "#        if key == ord('d'): # bajar el umbral de luz\n",
    "#            factor_sombra -= 1\n",
    "#            cv2.destroyAllWindows()\n",
    "        \n",
    "#        if key == ord('f'): # subir el umbral de luz\n",
    "#            factor_sombra += 1\n",
    "#            cv2.destroyAllWindows()\n",
    "            \n",
    "            \n",
    "#        if key == ord('z'): # bajar el umbral de sombra\n",
    "#            thres_luz -= 0.01\n",
    "#            cv2.destroyAllWindows()\n",
    "        \n",
    "#        if key == ord('x'): # subir el umbral de sombra\n",
    "#            thres_luz += 0.01\n",
    "#            cv2.destroyAllWindows()\n",
    "        \n",
    "#        if key == ord('c'): # bajar el umbral de luz\n",
    "#            factor_luz -= 1\n",
    "#            cv2.destroyAllWindows()\n",
    "        \n",
    "#        if key == ord('v'): # subir el umbral de luz\n",
    "#            factor_luz += 1\n",
    "#            cv2.destroyAllWindows()\n",
    "    \n",
    "#    if key == ord('q'):\n",
    "#        cv2.destroyAllWindows()\n",
    "#        break\n"
   ],
   "metadata": {
    "collapsed": false,
    "ExecuteTime": {
     "end_time": "2024-10-16T09:28:15.989516Z",
     "start_time": "2024-10-16T09:28:15.976467Z"
    }
   },
   "id": "79cfc1107211f3d0",
   "execution_count": 4
  },
  {
   "cell_type": "markdown",
   "source": [
    "# Aplicación manual (uno a uno) determiando la zona de sombra de la corrección sigmoide"
   ],
   "metadata": {
    "collapsed": false
   },
   "id": "c3391ce106c0b12f"
  },
  {
   "cell_type": "code",
   "outputs": [],
   "source": [
    "path_dest = r'C:\\Users\\aquacorp\\Desktop\\Imagenes\\Lescala\\dataSet_segmentacion\\imagenes_post_mov\\applay_sigmoid_15_16oct'\n",
    "path_agua_mask = r'C:\\Users\\aquacorp\\Desktop\\Imagenes\\Lescala\\mascara_agua_segmentacion/mask_lescala_mov_camara.jpg'\n",
    "path_images = r'C:\\Users\\aquacorp\\Desktop\\Imagenes\\Lescala\\dataSet_segmentacion\\imagenes_post_mov/15_16_octubre_ampliacion_train'\n",
    "path_no_procesadas = r'C:\\Users\\aquacorp\\Desktop\\Imagenes\\Lescala\\dataSet_segmentacion\\imagenes_post_mov\\no_procesadas'\n",
    "path_procesadas = r'C:\\Users\\aquacorp\\Desktop\\Imagenes\\Lescala\\dataSet_segmentacion\\imagenes_post_mov\\procesadas'\n",
    "\n",
    "mask_ag = cv2.imread(path_agua_mask)\n",
    "_, mask_agua_bin = cv2.threshold(mask_ag, 128, 1, cv2.THRESH_BINARY)\n",
    "mask_agua = np.uint8(mask_agua_bin)\n",
    "mask_agua = cv2.resize(mask_agua, (512, 288))\n",
    "\n",
    "thres_luz = 0.58\n",
    "factor_luz = 20\n",
    "thres_sombra = 0.12\n",
    "factor_sombra = 28\n",
    "\n",
    "for pth_img in os.listdir(path_images):\n",
    "    path_img = os.path.join(path_images, pth_img)\n",
    "    img = cv2.imread(path_img)\n",
    "    img_orig = cv2.imread(path_img)\n",
    "    img = cv2.resize(img, (512, 288))\n",
    "    img_orig = cv2.resize(img_orig, (512, 288))\n",
    "    \n",
    "    drawer = LineDrawer(img)\n",
    "    points = drawer.run()\n",
    "    m, n = get_m_n(points)\n",
    "    \n",
    "    recta_pixel: List[Tuple[int, int]] = []\n",
    "    \n",
    "    for i in range(288):\n",
    "        \n",
    "        y = int(i)\n",
    "        x = round(int((y - n)/m))\n",
    "        \n",
    "        recta_pixel.append((x, y))  \n",
    "    \n",
    "    for pix in recta_pixel:\n",
    "        cv2.circle(img, pix, radius=1, color=(0, 0, 255), thickness=-1)  # Rojo\n",
    "    \n",
    "    res = np.zeros_like(img)\n",
    "    \n",
    "    key = '  '\n",
    "    while (key != ord('q') and key != ord('g') and key != ord('n')):\n",
    "       \n",
    "        img[:,:,0] = cv2.equalizeHist((img_orig[:,:,0]))\n",
    "        img[:,:,1] = cv2.equalizeHist((img_orig[:,:,1]))\n",
    "        img[:,:,2] = cv2.equalizeHist((img_orig[:,:,2]))\n",
    "        \n",
    "        res = multi_sigmoid_correction(img,thres_luz, thres_sombra, factor_luz, factor_sombra, recta_pixel)\n",
    "        res = res * mask_agua\n",
    "        \n",
    "        imagenes = cv2.vconcat([res[:,:,0], res[:,:,1], res[:,:,2]])\n",
    "        #Thr_som: {thres_sombra} F_som: {factor_sombra}\n",
    "        cv2.namedWindow(f'Thr_luz: {thres_luz} F_luz: {factor_luz}', cv2.WINDOW_NORMAL)\n",
    "        cv2.moveWindow(f'Thr_luz: {thres_luz} F_luz: {factor_luz}', 3000, 0)\n",
    "        cv2.resizeWindow(f'Thr_luz: {thres_luz} F_luz: {factor_luz}', int(img.shape[1]), int((img.shape[0])*3))\n",
    "        cv2.imshow(f'Thr_luz: {thres_luz} F_luz: {factor_luz}', imagenes)\n",
    "        \n",
    "        key = cv2.waitKey(0)\n",
    "        \n",
    "        if key == ord('a'): # bajar el umbral de sombra\n",
    "            thres_sombra -= 0.01\n",
    "            cv2.destroyAllWindows()\n",
    "            \n",
    "        if key == ord('s'): # subir el umbral de sombra\n",
    "            thres_sombra += 0.01\n",
    "            cv2.destroyAllWindows()\n",
    "        \n",
    "        if key == ord('d'): # bajar el umbral de luz\n",
    "            factor_sombra -= 1\n",
    "            cv2.destroyAllWindows()\n",
    "        \n",
    "        if key == ord('f'): # subir el umbral de luz\n",
    "            factor_sombra += 1\n",
    "            cv2.destroyAllWindows()\n",
    "            \n",
    "            \n",
    "        if key == ord('z'): # bajar el umbral de sombra\n",
    "            thres_luz -= 0.01\n",
    "            cv2.destroyAllWindows()\n",
    "        \n",
    "        if key == ord('x'): # subir el umbral de sombra\n",
    "            thres_luz += 0.01\n",
    "            cv2.destroyAllWindows()\n",
    "        \n",
    "        if key == ord('c'): # bajar el umbral de luz\n",
    "            factor_luz -= 1\n",
    "            cv2.destroyAllWindows()\n",
    "        \n",
    "        if key == ord('v'): # subir el umbral de luz\n",
    "            factor_luz += 1\n",
    "            cv2.destroyAllWindows()\n",
    "        \n",
    "        if key == ord('g'):\n",
    "            cv2.imwrite(path_dest + '/'+ pth_img, res)\n",
    "            shutil.move(path_img, path_procesadas)\n",
    "            cv2.destroyAllWindows()\n",
    "            \n",
    "        if key == ord('n'):\n",
    "            shutil.move(path_img, path_no_procesadas)\n",
    "            cv2.destroyAllWindows()\n",
    "        \n",
    "        if key == ord('q'):\n",
    "            cv2.destroyAllWindows()\n",
    "        "
   ],
   "metadata": {
    "collapsed": false,
    "ExecuteTime": {
     "end_time": "2024-10-16T09:51:27.678440Z",
     "start_time": "2024-10-16T09:32:09.620205Z"
    }
   },
   "id": "6e803ca20e8e9a65",
   "execution_count": 6
  },
  {
   "cell_type": "code",
   "outputs": [],
   "source": [
    "#imagen = cv2.imread(r'C:\\Users\\aquacorp\\Desktop\\Imagenes\\Lescala\\dataSet_segmentacion\\sombra\\applay_sigmoid/20240615120010.tif')\n",
    "#imagenes = \n",
    "#cv2.imshow('asdf', imagen[:,:,0])#[:,:,0])\n",
    "#cv2.waitKey(0)\n",
    "#cv2.destroyAllWindows()"
   ],
   "metadata": {
    "collapsed": false,
    "ExecuteTime": {
     "end_time": "2024-07-08T13:29:02.281888Z",
     "start_time": "2024-07-08T13:28:48.689510Z"
    }
   },
   "id": "16fbed4d3d922634",
   "execution_count": 6
  },
  {
   "cell_type": "markdown",
   "source": [
    "# Determinación de umbral de intensidad y generación de máscara"
   ],
   "metadata": {
    "collapsed": false
   },
   "id": "9a873e36917f7cf3"
  },
  {
   "cell_type": "code",
   "outputs": [],
   "source": [
    "path_img_sigTransform = r'C:\\Users\\aquacorp\\Desktop\\Imagenes\\Lescala\\dataSet_segmentacion\\imagenes_post_mov\\applay_sigmoid_15_16oct'\n",
    "path_orig = r'C:\\Users\\aquacorp\\Desktop\\Imagenes\\Lescala\\dataSet_segmentacion\\imagenes_post_mov\\originales'\n",
    "dir_destino = r'C:\\Users\\aquacorp\\Desktop\\Imagenes\\Lescala\\dataSet_segmentacion\\imagenes_post_mov\\mascaras'\n",
    "almacen_procesadas = r'C:\\Users\\aquacorp\\Desktop\\Imagenes\\Lescala\\dataSet_segmentacion\\sombra\\procesadas'\n",
    "\n",
    "transparencia = 0.4\n",
    "kernel_dil = cv2.getStructuringElement(cv2.MORPH_ELLIPSE, (2, 2))\n",
    "\n",
    "thresh = 180#100\n",
    "chanel = 0\n",
    "for name_im in os.listdir(path_img_sigTransform):\n",
    "    im_path = os.path.join(path_img_sigTransform, name_im)\n",
    "    im_path_orig = os.path.join(path_orig, name_im)\n",
    "    \n",
    "    img = cv2.imread(im_path) # Shape: (2160, 3840, 3)\n",
    "    img = cv2.resize(img, (512, 288)) # Shape: (512, 288, 3)\n",
    "    img_orig = cv2.imread(im_path_orig)\n",
    "    img_orig = cv2.resize(img_orig, (512, 288))\n",
    "    \n",
    "    comp_tres_canales = cv2.vconcat([img[:,:,0], img[:,:,1], img[:,:,2]])\n",
    "    cv2.imshow('Elegir canal ' + name_im, comp_tres_canales)\n",
    "    cv2.moveWindow('Elegir canal ' + name_im, 3000, 0)\n",
    "    cv2.resizeWindow('Elegir canal ' + name_im, int(img.shape[1]), int((img.shape[0])*3))\n",
    "    \n",
    "    key = cv2.waitKey(0)\n",
    "    \n",
    "    if key == 48:\n",
    "        chanel = 0\n",
    "    elif key == 49:\n",
    "        chanel = 1\n",
    "    elif key == 50:\n",
    "        chanel = 2\n",
    "    else:\n",
    "        chanel = 0\n",
    "    \n",
    "    while (key != ord('q') and key != ord('g')):\n",
    "        mask = np.ones_like(img[:,:,chanel], dtype=np.uint8)\n",
    "        mask_out_of_range = (img[:,:,chanel] < thresh)\n",
    "        mask[mask_out_of_range] = 0\n",
    "        \n",
    "        mask = cv2.dilate(mask, kernel_dil, iterations=1)\n",
    "        \n",
    "        #mask_rgb = cv2.cvtColor(mask*255, cv2.COLOR_GRAY2RGB)   Esta linea es para tener la máscara en color blanco\n",
    "        mask_rgb = np.zeros_like(img) # Estas lineas son para tener la máscara en color rojo\n",
    "        mask_rgb[:, :, 2] = mask * 255  # Estas lineas son para tener la máscara en color rojo\n",
    "        \n",
    "        composicion_pred = cv2.addWeighted(mask_rgb, transparencia, img_orig, 1 - transparencia, 0)\n",
    "        imagenes = cv2.vconcat([img_orig, mask_rgb, composicion_pred])\n",
    "        \n",
    "        cv2.namedWindow(str(name_im[:-4]) + ' ' + str(thresh), cv2.WINDOW_NORMAL)\n",
    "        cv2.moveWindow(str(name_im[:-4]) + ' ' + str(thresh), 3000, 0)\n",
    "        cv2.resizeWindow(str(name_im[:-4]) + ' ' + str(thresh), int(img.shape[1]), int((img.shape[0])*3))\n",
    "        cv2.imshow(str(name_im[:-4]) + ' ' + str(thresh), imagenes)\n",
    "        \n",
    "        key = cv2.waitKey(0)\n",
    "    \n",
    "        if key == ord('a'):\n",
    "            thresh = thresh - 3\n",
    "            cv2.destroyAllWindows()\n",
    "        \n",
    "        if key == ord('s'): # subir limite inferior\n",
    "            thresh = thresh + 3\n",
    "            cv2.destroyAllWindows()\n",
    "        \n",
    "        if key == ord('g'): # guardar máscara\n",
    "            dir_save_mask = dir_destino + '/m_' + name_im\n",
    "            cv2.imwrite(dir_save_mask, mask)\n",
    "            shutil.move(im_path, almacen_procesadas)\n",
    "            cv2.destroyAllWindows()\n",
    "            \n",
    "        if key == ord('q'):  # sube limite inferior\n",
    "            cv2.destroyAllWindows()"
   ],
   "metadata": {
    "collapsed": false,
    "ExecuteTime": {
     "end_time": "2024-10-16T10:12:31.437224Z",
     "start_time": "2024-10-16T09:54:41.785045Z"
    }
   },
   "id": "cfea5b6992634f0e",
   "execution_count": 7
  },
  {
   "cell_type": "code",
   "outputs": [],
   "source": [
    "import cv2"
   ],
   "metadata": {
    "collapsed": false,
    "ExecuteTime": {
     "end_time": "2024-10-14T08:33:13.460424Z",
     "start_time": "2024-10-14T08:33:13.300848Z"
    }
   },
   "id": "18dbc34c600d0eb2",
   "execution_count": 1
  },
  {
   "cell_type": "code",
   "outputs": [],
   "source": [
    "img = cv2.imread(r'C:\\Users\\aquacorp\\Desktop\\Imagenes\\Lescala\\dataSet_segmentacion\\imagenes_post_mov\\applay_sigmoid/20240930053007.tif')"
   ],
   "metadata": {
    "collapsed": false,
    "ExecuteTime": {
     "end_time": "2024-10-14T08:35:44.748946Z",
     "start_time": "2024-10-14T08:35:44.738436Z"
    }
   },
   "id": "7db3c12b1cb6b501",
   "execution_count": 4
  },
  {
   "cell_type": "code",
   "outputs": [
    {
     "name": "stdout",
     "output_type": "stream",
     "text": [
      "48\n"
     ]
    }
   ],
   "source": [
    "cv2.imshow('asdf', img)\n",
    "key = cv2.waitKey(0)\n",
    "print(key)\n",
    "cv2.destroyAllWindows()"
   ],
   "metadata": {
    "collapsed": false,
    "ExecuteTime": {
     "end_time": "2024-10-14T08:36:02.052700Z",
     "start_time": "2024-10-14T08:35:55.830766Z"
    }
   },
   "id": "2cbed01f95e842da",
   "execution_count": 5
  },
  {
   "cell_type": "code",
   "outputs": [
    {
     "name": "stdout",
     "output_type": "stream",
     "text": [
      "49\n"
     ]
    }
   ],
   "source": [
    "cv2.imshow('asdf', img)\n",
    "key = cv2.waitKey(0)\n",
    "print(key)\n",
    "cv2.destroyAllWindows()"
   ],
   "metadata": {
    "collapsed": false,
    "ExecuteTime": {
     "end_time": "2024-10-14T08:36:17.964515Z",
     "start_time": "2024-10-14T08:36:15.328268Z"
    }
   },
   "id": "414dd7d2aee511cd",
   "execution_count": 6
  },
  {
   "cell_type": "code",
   "outputs": [
    {
     "name": "stdout",
     "output_type": "stream",
     "text": [
      "50\n"
     ]
    }
   ],
   "source": [
    "cv2.imshow('asdf', img)\n",
    "key = cv2.waitKey(0)\n",
    "print(key)\n",
    "cv2.destroyAllWindows()"
   ],
   "metadata": {
    "collapsed": false,
    "ExecuteTime": {
     "end_time": "2024-10-14T08:36:22.677262Z",
     "start_time": "2024-10-14T08:36:20.243374Z"
    }
   },
   "id": "71e609ca11040365",
   "execution_count": 7
  },
  {
   "cell_type": "code",
   "outputs": [],
   "source": [],
   "metadata": {
    "collapsed": false
   },
   "id": "e5cf8c95f1b1be8c"
  }
 ],
 "metadata": {
  "kernelspec": {
   "display_name": "Python 3",
   "language": "python",
   "name": "python3"
  },
  "language_info": {
   "codemirror_mode": {
    "name": "ipython",
    "version": 2
   },
   "file_extension": ".py",
   "mimetype": "text/x-python",
   "name": "python",
   "nbconvert_exporter": "python",
   "pygments_lexer": "ipython2",
   "version": "2.7.6"
  }
 },
 "nbformat": 4,
 "nbformat_minor": 5
}
