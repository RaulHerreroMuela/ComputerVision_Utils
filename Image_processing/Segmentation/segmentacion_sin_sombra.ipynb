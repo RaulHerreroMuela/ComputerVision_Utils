{
 "cells": [
  {
   "cell_type": "code",
   "execution_count": 1,
   "id": "initial_id",
   "metadata": {
    "collapsed": true,
    "ExecuteTime": {
     "end_time": "2024-07-10T06:17:21.417602Z",
     "start_time": "2024-07-10T06:17:19.068313Z"
    }
   },
   "outputs": [],
   "source": [
    "import numpy as np\n",
    "import os\n",
    "from matplotlib import pyplot as plt\n",
    "from PIL import Image\n",
    "import cv2\n",
    "import pandas as pd\n",
    "import shutil\n",
    "import jupyter_notebooks.utils.aux_functions as aux\n",
    "from scipy.special import expit\n",
    "from tqdm import tqdm\n",
    "\n",
    "from typing import List, Tuple"
   ]
  },
  {
   "cell_type": "code",
   "outputs": [],
   "source": [
    "def sigmoid_correction(image, threshold, factor=10):\n",
    "    normalized_image = image / 255.0\n",
    "\n",
    "    corrected_image = expit(factor * (normalized_image - threshold))\n",
    "    \n",
    "    corrected_image = (corrected_image * 255).astype(np.uint8)\n",
    "    \n",
    "    return corrected_image"
   ],
   "metadata": {
    "collapsed": false,
    "ExecuteTime": {
     "end_time": "2024-07-10T06:17:21.433640Z",
     "start_time": "2024-07-10T06:17:21.418603Z"
    }
   },
   "id": "42246fd36205282c",
   "execution_count": 2
  },
  {
   "cell_type": "markdown",
   "source": [
    "# Determinacion manual de umbrales Sigmoide"
   ],
   "metadata": {
    "collapsed": false
   },
   "id": "2cd28beb263f2672"
  },
  {
   "cell_type": "code",
   "outputs": [],
   "source": [
    "path_image = r'C:\\Users\\aquacorp\\Desktop\\Imagenes\\Lescala\\dataset_features\\0/20240612151612.jpg' # Sin sombras día\n",
    "path_agua_mask = r'C:\\Users\\aquacorp\\Desktop\\Imagenes\\Lescala\\mascara_agua_segmentacion/mascara_agua_lescala_2.jpg'\n",
    "\n",
    "factor = 8\n",
    "threshold = 0.58\n",
    "key = '  '\n",
    "while key != ord('q'):\n",
    "    mask_ag = cv2.imread(path_agua_mask)\n",
    "    _, mask_agua_bin = cv2.threshold(mask_ag, 128, 1, cv2.THRESH_BINARY)\n",
    "    mask_agua = np.uint8(mask_agua_bin)\n",
    "    mask_agua = cv2.resize(mask_agua, (512, 288))\n",
    "    \n",
    "    img_rgb = cv2.imread(path_image)\n",
    "    img_rgb = cv2.resize(img_rgb, (512, 288))\n",
    "    \n",
    "    img_rgb[:,:,0] = cv2.equalizeHist(img_rgb[:,:,0])\n",
    "    img_rgb[:,:,1] = cv2.equalizeHist(img_rgb[:,:,1])\n",
    "    img_rgb[:,:,2] = cv2.equalizeHist(img_rgb[:,:,2])\n",
    "    \n",
    "    res = np.zeros_like(img_rgb)\n",
    "    \n",
    "    res[:,:,0] = sigmoid_correction(img_rgb[:,:,0],threshold,factor)\n",
    "    res[:,:,1] = sigmoid_correction(img_rgb[:,:,1],threshold,factor)\n",
    "    res[:,:,2] = sigmoid_correction(img_rgb[:,:,2],threshold,factor)\n",
    "    \n",
    "    res = res*mask_agua\n",
    "    img_gray = cv2.imread(path_image, cv2.IMREAD_GRAYSCALE)\n",
    "    alto, ancho, canales = res.shape\n",
    "    img_hsv = cv2.cvtColor(res, cv2.COLOR_BGR2HSV)\n",
    "    \n",
    "    imagenes = cv2.vconcat([res[:,:,0], res[:,:,1], res[:,:,2]])\n",
    "    cv2.namedWindow('threshold: '+ str(threshold) + ' factor: ' + str(factor), cv2.WINDOW_NORMAL)\n",
    "    cv2.moveWindow('threshold: '+ str(threshold) + ' factor: ' + str(factor), 0, 0)\n",
    "    cv2.resizeWindow('threshold: '+ str(threshold) + ' factor: ' + str(factor), int(ancho), int(alto*3))\n",
    "    cv2.imshow('threshold: '+ str(threshold) + ' factor: ' + str(factor), imagenes)\n",
    "    \n",
    "    key = cv2.waitKey(0)\n",
    "    \n",
    "    if key == ord('a'):\n",
    "        threshold -= 0.02\n",
    "        cv2.destroyAllWindows()\n",
    "    \n",
    "    if key == ord('s'): # subir limite inferior\n",
    "        threshold += 0.02\n",
    "        cv2.destroyAllWindows()\n",
    "    \n",
    "    if key == ord('d'):\n",
    "        factor -= 1\n",
    "        cv2.destroyAllWindows()\n",
    "    \n",
    "    if key == ord('f'): # subir limite inferior\n",
    "        factor += 1\n",
    "        cv2.destroyAllWindows()\n",
    "        \n",
    "    if key == ord('q'):  # sube limite inferior\n",
    "        cv2.destroyAllWindows()"
   ],
   "metadata": {
    "collapsed": false
   },
   "id": "a1fe18b28cc41a05"
  },
  {
   "cell_type": "markdown",
   "source": [
    "# Aplicación de corrección sigmoide"
   ],
   "metadata": {
    "collapsed": false
   },
   "id": "d3cc6740ef33b808"
  },
  {
   "cell_type": "code",
   "outputs": [],
   "source": [
    "path_images = r'C:\\Users\\aquacorp\\Desktop\\Imagenes\\Lescala\\dataSet_segmentacion\\sin_sombra'\n",
    "path_save_img = r'C:\\Users\\aquacorp\\Desktop\\Imagenes\\Lescala\\dataSet_segmentacion\\sin_sombra\\aplay_sigmoid'\n",
    "factor = 8\n",
    "threshold = 0.58\n",
    "\n",
    "mask_ag = cv2.imread(path_agua_mask)\n",
    "_, mask_agua_bin = cv2.threshold(mask_ag, 128, 1, cv2.THRESH_BINARY)\n",
    "mask_agua = np.uint8(mask_agua_bin)\n",
    "mask_agua = cv2.resize(mask_agua, (512, 288))\n",
    "\n",
    "total = len(os.listdir(path_images))\n",
    "\n",
    "for name_im in tqdm(os.listdir(path_images), desc=\"Procesando imágenes\", total = total):\n",
    "    im_path = os.path.join(path_images, name_im)\n",
    "    img_rgb = cv2.imread(im_path)\n",
    "    img_rgb = cv2.resize(img_rgb, (512, 288))\n",
    "    \n",
    "    img_rgb[:,:,0] = cv2.equalizeHist(img_rgb[:,:,0])\n",
    "    img_rgb[:,:,1] = cv2.equalizeHist(img_rgb[:,:,1])\n",
    "    img_rgb[:,:,2] = cv2.equalizeHist(img_rgb[:,:,2])\n",
    "    \n",
    "    res = np.zeros_like(img_rgb)\n",
    "    \n",
    "    res[:,:,0] = sigmoid_correction(img_rgb[:,:,0],threshold,factor)\n",
    "    res[:,:,1] = sigmoid_correction(img_rgb[:,:,1],threshold,factor)\n",
    "    res[:,:,2] = sigmoid_correction(img_rgb[:,:,2],threshold,factor)\n",
    "    \n",
    "    res = res*mask_agua\n",
    "    \n",
    "    cv2.imwrite(path_save_img + '/'+ name_im, res)"
   ],
   "metadata": {
    "collapsed": false
   },
   "id": "10b43d4b6235139e"
  },
  {
   "cell_type": "markdown",
   "source": [
    "# Determinación de umbral intensidad y generación de máscara"
   ],
   "metadata": {
    "collapsed": false
   },
   "id": "87ede45489a8925e"
  },
  {
   "cell_type": "code",
   "outputs": [],
   "source": [
    "path_img_sigTransform = r'C:\\Users\\aquacorp\\Desktop\\Imagenes\\Lescala\\dataSet_segmentacion\\sin_sombra\\aplay_sigmoid'\n",
    "path_orig = r'C:\\Users\\aquacorp\\Desktop\\Imagenes\\Lescala\\dataSet_segmentacion\\sin_sombra'\n",
    "dir_destino = r'C:\\Users\\aquacorp\\Desktop\\Imagenes\\Lescala\\dataSet_segmentacion\\sin_sombra\\mascaras'\n",
    "almacen_procesadas = r'C:\\Users\\aquacorp\\Desktop\\Imagenes\\Lescala\\dataSet_segmentacion\\sin_sombra\\procesadas'\n",
    "\n",
    "transparencia = 0.4\n",
    "kernel_dil = cv2.getStructuringElement(cv2.MORPH_ELLIPSE, (2, 2))\n",
    "\n",
    "thresh = 180#100\n",
    "\n",
    "for name_im in os.listdir(path_img_sigTransform):\n",
    "    im_path = os.path.join(path_img_sigTransform, name_im)\n",
    "    im_path_orig = os.path.join(path_orig, name_im)\n",
    "    \n",
    "    img = cv2.imread(im_path) # Shape: (2160, 3840, 3)\n",
    "    img = cv2.resize(img, (512, 288)) # Shape: (512, 288, 3)\n",
    "    img_orig = cv2.imread(im_path_orig)\n",
    "    img_orig = cv2.resize(img_orig, (512, 288))\n",
    "    \n",
    "    key = '  '\n",
    "    while (key != ord('q') and key != ord('g')):\n",
    "        mask = np.ones_like(img[:,:,1], dtype=np.uint8)\n",
    "        mask_out_of_range = (img[:,:,1] < thresh)\n",
    "        mask[mask_out_of_range] = 0\n",
    "        \n",
    "        mask = cv2.dilate(mask, kernel_dil, iterations=1)\n",
    "        \n",
    "        #mask_rgb = cv2.cvtColor(mask*255, cv2.COLOR_GRAY2RGB)   Esta linea es para tener la máscara en color blanco\n",
    "        mask_rgb = np.zeros_like(img) # Estas lineas son para tener la máscara en color rojo\n",
    "        mask_rgb[:, :, 2] = mask * 255  # Estas lineas son para tener la máscara en color rojo\n",
    "        \n",
    "        composicion_pred = cv2.addWeighted(mask_rgb, transparencia, img_orig, 1 - transparencia, 0)\n",
    "        imagenes = cv2.vconcat([img_orig, mask_rgb, composicion_pred])\n",
    "        \n",
    "        cv2.namedWindow(str(name_im[:-4]) + ' ' + str(thresh), cv2.WINDOW_NORMAL)\n",
    "        cv2.moveWindow(str(name_im[:-4]) + ' ' + str(thresh), 3000, 0)\n",
    "        cv2.resizeWindow(str(name_im[:-4]) + ' ' + str(thresh), int(img.shape[1]), int((img.shape[0])*3))\n",
    "        cv2.imshow(str(name_im[:-4]) + ' ' + str(thresh), imagenes)\n",
    "        \n",
    "        key = cv2.waitKey(0)\n",
    "    \n",
    "        if key == ord('a'):\n",
    "            thresh = thresh - 3\n",
    "            cv2.destroyAllWindows()\n",
    "        \n",
    "        if key == ord('s'): # subir limite inferior\n",
    "            thresh = thresh + 3\n",
    "            cv2.destroyAllWindows()\n",
    "        \n",
    "        if key == ord('g'): # guardar máscara\n",
    "            dir_save_mask = dir_destino + '/m_' + name_im\n",
    "            cv2.imwrite(dir_save_mask, mask)\n",
    "            shutil.move(im_path, almacen_procesadas)\n",
    "            cv2.destroyAllWindows()\n",
    "            \n",
    "        if key == ord('q'):  # sube limite inferior\n",
    "            cv2.destroyAllWindows()"
   ],
   "metadata": {
    "collapsed": false,
    "ExecuteTime": {
     "end_time": "2024-07-10T09:41:14.069656Z",
     "start_time": "2024-07-10T09:29:29.672682Z"
    }
   },
   "id": "bea523eb0b19acf4",
   "execution_count": 6
  },
  {
   "cell_type": "code",
   "outputs": [],
   "source": [],
   "metadata": {
    "collapsed": false
   },
   "id": "30a560bc8406f9ef"
  }
 ],
 "metadata": {
  "kernelspec": {
   "display_name": "Python 3",
   "language": "python",
   "name": "python3"
  },
  "language_info": {
   "codemirror_mode": {
    "name": "ipython",
    "version": 2
   },
   "file_extension": ".py",
   "mimetype": "text/x-python",
   "name": "python",
   "nbconvert_exporter": "python",
   "pygments_lexer": "ipython2",
   "version": "2.7.6"
  }
 },
 "nbformat": 4,
 "nbformat_minor": 5
}
